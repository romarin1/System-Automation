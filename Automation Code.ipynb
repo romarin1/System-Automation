{
 "cells": [
  {
   "cell_type": "code",
   "execution_count": 21,
   "id": "7ff9ec31",
   "metadata": {},
   "outputs": [],
   "source": [
    "import pyautogui\n",
    "import pyperclip\n",
    "import time\n",
    "# Passo 1: Entrar no sistema(https://drive.google.com/drive/folders/149xknr9JvrlEnhNWO49zPcw0PW5icxga)\n",
    "pyautogui.PAUSE = 1\n",
    "pyautogui.hotkey('ctrl', 't')\n",
    "link = \"https://drive.google.com/drive/folders/149xknr9JvrlEnhNWO49zPcw0PW5icxga\"\n",
    "pyperclip.copy(link)\n",
    "pyautogui.hotkey('ctrl', 'v')\n",
    "pyautogui.press('ENTER')\n",
    "time.sleep(5) # Wait 5 Seconds\n",
    "# Passo 2: Navegar no sistema que é na pasta EXPORTAR\n",
    "pyautogui.click(x = 336, y = 255, clicks = 2) #right button click(button = \"right\")\n",
    "\n",
    "# Passo 3: Baixar o arquivo de vendas\n",
    "\n",
    "\n",
    "# Passo 4: Calcular Faturamento e quantidade de produtos vendidos\n",
    "\n",
    "# Passo 5: Enviar o email para a diretoria"
   ]
  },
  {
   "cell_type": "code",
   "execution_count": 17,
   "id": "b875e5d2",
   "metadata": {},
   "outputs": [],
   "source": []
  },
  {
   "cell_type": "code",
   "execution_count": 10,
   "id": "f78fa73a",
   "metadata": {},
   "outputs": [],
   "source": []
  },
  {
   "cell_type": "code",
   "execution_count": null,
   "id": "f2b523bc",
   "metadata": {},
   "outputs": [],
   "source": []
  },
  {
   "cell_type": "code",
   "execution_count": null,
   "id": "2634f598",
   "metadata": {},
   "outputs": [],
   "source": []
  },
  {
   "cell_type": "code",
   "execution_count": 14,
   "id": "2f9b6813",
   "metadata": {},
   "outputs": [
    {
     "data": {
      "text/plain": [
       "Point(x=336, y=255)"
      ]
     },
     "execution_count": 14,
     "metadata": {},
     "output_type": "execute_result"
    }
   ],
   "source": [
    "# suport code\n",
    "import time\n",
    "time.sleep(8)\n",
    "pyautogui.position()"
   ]
  },
  {
   "cell_type": "code",
   "execution_count": null,
   "id": "0e4aa0f9",
   "metadata": {},
   "outputs": [],
   "source": []
  }
 ],
 "metadata": {
  "kernelspec": {
   "display_name": "Python 3",
   "language": "python",
   "name": "python3"
  },
  "language_info": {
   "codemirror_mode": {
    "name": "ipython",
    "version": 3
   },
   "file_extension": ".py",
   "mimetype": "text/x-python",
   "name": "python",
   "nbconvert_exporter": "python",
   "pygments_lexer": "ipython3",
   "version": "3.8.8"
  }
 },
 "nbformat": 4,
 "nbformat_minor": 5
}
